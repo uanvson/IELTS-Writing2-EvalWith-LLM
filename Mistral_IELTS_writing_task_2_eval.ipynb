{
 "cells": [
  {
   "cell_type": "code",
   "execution_count": null,
   "id": "b2e3f0f5",
   "metadata": {},
   "outputs": [],
   "source": [
    "!pip install transformers datasets peft accelerate bitsandbytes"
   ]
  },
  {
   "cell_type": "code",
   "execution_count": null,
   "id": "237e046a",
   "metadata": {},
   "outputs": [],
   "source": [
    "!nohup  python Mistral_IELTS_writing_task_2_evaluation.py"
   ]
  }
 ],
 "metadata": {
  "language_info": {
   "name": "python"
  }
 },
 "nbformat": 4,
 "nbformat_minor": 5
}
